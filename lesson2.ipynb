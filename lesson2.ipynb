{
 "cells": [
  {
   "cell_type": "code",
   "execution_count": 5,
   "metadata": {},
   "outputs": [
    {
     "name": "stdout",
     "output_type": "stream",
     "text": [
      "15\n"
     ]
    }
   ],
   "source": [
    "n=5\n",
    "m=10\n",
    "result=input(f\"{n}+{m}\")\n",
    "print(result)"
   ]
  },
  {
   "cell_type": "code",
   "execution_count": 11,
   "metadata": {},
   "outputs": [
    {
     "name": "stdout",
     "output_type": "stream",
     "text": [
      "15.0\n"
     ]
    }
   ],
   "source": [
    "#請輸入第一個數:87.9\n",
    "#請輸入第二個數:45\n",
    "#請輸入等三個數:87.5\n",
    "\n",
    "n=float(input(\"請輸入第1個數\"))\n",
    "m = float(input(\"請輸入第2個數:\"))\n",
    "x = float(input(\"請輸入第3個數:\"))\n",
    "\n",
    "result = (n + m) * x/2\n",
    "print(result)"
   ]
  },
  {
   "cell_type": "code",
   "execution_count": 7,
   "metadata": {},
   "outputs": [
    {
     "name": "stdout",
     "output_type": "stream",
     "text": [
      "總合為 = 15.0\n"
     ]
    }
   ],
   "source": [
    "#請輸入第一個數:87.9\n",
    "#請輸入第二個數:45\n",
    "#請輸入等三個數:87.5\n",
    "result =0\n",
    "n = float(input(\"請輸入第1個數:\"))\n",
    "result+=n\n",
    "n = float(input(\"請輸入第2個數:\"))\n",
    "result += n\n",
    "n = float(input(\"請輸入第3個數:\"))\n",
    "result += n\n",
    "\n",
    "print(f\"總合為 = {result}\")"
   ]
  },
  {
   "cell_type": "code",
   "execution_count": 1,
   "metadata": {},
   "outputs": [
    {
     "name": "stdout",
     "output_type": "stream",
     "text": [
      "總合為=15.0\n"
     ]
    }
   ],
   "source": [
    "#請輸入梯形上底(公分):5\n",
    "#請輸入梯形下底(公分):10\n",
    "#請輸入梯形高(公分):2\n",
    "n=float(input(\"請輸入梯形上底(公分):\"))\n",
    "\n",
    "m=float(input(\"請輸入梯形下底(公分):\"))\n",
    "\n",
    "x=float(input(\"請輸入梯形高(公分):\"))\n",
    "result=(n+m)*x/2\n",
    "result\n",
    "\n",
    "print(f\"總合為={result}\")"
   ]
  },
  {
   "cell_type": "code",
   "execution_count": 13,
   "metadata": {},
   "outputs": [
    {
     "name": "stdout",
     "output_type": "stream",
     "text": [
      "直角三角形角度為:30.0\n"
     ]
    }
   ],
   "source": [
    "import math\n",
    "m=float(input(\"請輸入對邊:\"))\n",
    "n=float(input(\"請輸入斜邊:\"))\n",
    "degree=math.degrees(math.asin(m/n))\n",
    "print(f\"直角三角形角度為:{round(degree,2)}\")"
   ]
  },
  {
   "cell_type": "code",
   "execution_count": 2,
   "metadata": {},
   "outputs": [
    {
     "data": {
      "text/plain": [
       "True"
      ]
     },
     "execution_count": 2,
     "metadata": {},
     "output_type": "execute_result"
    }
   ],
   "source": [
    "3<5"
   ]
  }
 ],
 "metadata": {
  "kernelspec": {
   "display_name": "Python 3",
   "language": "python",
   "name": "python3"
  },
  "language_info": {
   "codemirror_mode": {
    "name": "ipython",
    "version": 3
   },
   "file_extension": ".py",
   "mimetype": "text/x-python",
   "name": "python",
   "nbconvert_exporter": "python",
   "pygments_lexer": "ipython3",
   "version": "3.10.4"
  },
  "orig_nbformat": 4
 },
 "nbformat": 4,
 "nbformat_minor": 2
}
